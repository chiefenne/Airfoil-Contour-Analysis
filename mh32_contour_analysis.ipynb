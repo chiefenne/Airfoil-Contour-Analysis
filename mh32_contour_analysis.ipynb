{
 "metadata": {
  "name": ""
 },
 "nbformat": 3,
 "nbformat_minor": 0,
 "worksheets": [
  {
   "cells": [
    {
     "cell_type": "heading",
     "level": 1,
     "metadata": {},
     "source": [
      "Airfoil contour analysis"
     ]
    },
    {
     "cell_type": "markdown",
     "metadata": {},
     "source": [
      "This **IP[y]: Notebook** illustrates how to use Python, Numpy and Matplotlib in order to analyze airfoil contour data.\n",
      "\n",
      "The airfoil used for demonstration is MH32 from Martin Hepperle.  \n",
      "The MH32 airfoil is widely used for RC model airplanes. Its main area of usage is F3B and F5B.\n",
      "    \n",
      "The script shows how to utilize these tools for following tasks:\n",
      "\n",
      "* Contour refinement\n",
      "* Calculate 1<sup>st</sup> derivative\n",
      "* Calculate 2<sup>nd</sup> derivative (used to show smoothness of data)\n",
      "* Plot contour and its derivatives"
     ]
    },
    {
     "cell_type": "code",
     "collapsed": false,
     "input": [
      "import numpy as np\n",
      "import matplotlib.pyplot as plt\n",
      "import scipy.interpolate as spi\n",
      "import scipy.linalg as sla\n",
      "import base64\n",
      "from cStringIO import StringIO\n",
      "import gzip\n",
      "\n",
      "%matplotlib inline"
     ],
     "language": "python",
     "metadata": {},
     "outputs": [],
     "prompt_number": 15
    },
    {
     "cell_type": "code",
     "collapsed": false,
     "input": [
      "# base64 encoded string representation of gzipped airfoil coordinate file\n",
      "MH32_COMPRESSED = '''\n",
      "H4sICIlqr1IC/21oMzJfY29udG91ci50eHQAZVM7jlRBDIx3TjHSiJCV/5+cgIRTIALE/XNc7p4E\n",
      "Npmteu2yXbZfj9fzx3eVZ30mP788v/3++efX4/XgT8LfB53fB312R8rB6sCVFIvZ93uy+WINBfZ5\n",
      "tzgygMVEgZnKBldr8GJPvC+vLmBhWSxUqy8jPDizc+NVuYE1yBY3I380cQKbRQKb+NZrncDe6vve\n",
      "TQXYNA8uRby1nv6Cg4HNaOsLI+RTNLTYA/2rpa4/EQJ9JZY63wv9yrRlJ14RLzwNHv1Gfs48/ngZ\n",
      "+mOTo+/aBczE+95q6yEYslgM+cmzt171gB5p1sZLCfKNj30wrR/ju6yfrAR9moerT96r98+88Z0/\n",
      "vuIfOwmY8xJVS8hYtwRLboj5SCwxswExQ4lD1A6ZOm+IUG7XyveFTJ0goiwvkehbqKPfhK2xM8BL\n",
      "7KaM81WHYIGGOpedtN0729nJdx0CDfO4WTgUhPP4fAhb++aBXEIYosHpt7lZcRDRfuqgWU1sJPfb\n",
      "oCBYmpEW10LdnR6tIzrmxi69ymluCum9CpJj0LgsezZy007M3pF12J2TnruTc2dT6b1Lvpjv3b7n\n",
      "6v/d9V9zm9bCAAQAAA=='''"
     ],
     "language": "python",
     "metadata": {},
     "outputs": [],
     "prompt_number": 16
    },
    {
     "cell_type": "code",
     "collapsed": false,
     "input": [
      "# decode and unzip\n",
      "unzipped = gzip.GzipFile(mode='rb', fileobj=StringIO(base64.b64decode(MH32_COMPRESSED)))"
     ],
     "language": "python",
     "metadata": {},
     "outputs": [],
     "prompt_number": 17
    },
    {
     "cell_type": "code",
     "collapsed": false,
     "input": [
      "# read data from file object\n",
      "data = unzipped.read()"
     ],
     "language": "python",
     "metadata": {},
     "outputs": [],
     "prompt_number": 18
    },
    {
     "cell_type": "code",
     "collapsed": false,
     "input": [
      "# this should be refactored\n",
      "lines = data.split('\\n')\n",
      "x = [float(line.split('\\t')[0]) for line in lines if (line.find('#') == -1 and len(line.split()) == 2)]\n",
      "y = [float(line.split('\\t')[1]) for line in lines if (line.find('#') == -1 and len(line.split()) == 2)]"
     ],
     "language": "python",
     "metadata": {},
     "outputs": [],
     "prompt_number": 19
    },
    {
     "cell_type": "code",
     "collapsed": false,
     "input": [
      "fig, ax = plt.subplots(figsize=(16, 4))\n",
      "ax.plot(x,y, 'k', linewidth=3)\n",
      "ax.set_xlim(0.0, 1.0)\n",
      "ax.set_ylim(-0.05, 0.1)\n",
      "ax.set_title('MH32  airfoil', fontsize=20)\n",
      "ax.fill(x, y, color=(0.3, 0.5, 1))\n",
      "axes().set_aspect('equal')"
     ],
     "language": "python",
     "metadata": {},
     "outputs": [
      {
       "metadata": {},
       "output_type": "display_data",
       "png": "[encoded data removed]",
       "text": [
        "<matplotlib.figure.Figure at 0xa8db358>"
       ]
      }
     ],
     "prompt_number": 29
    },
    {
     "cell_type": "code",
     "collapsed": false,
     "input": [
      "# several functions\n",
      "\n",
      "def spline(x, y, num=200, ev=False):\n",
      "\n",
      "    # interpolate B-spline through data points\n",
      "    # returns knots of control polygon\n",
      "    tck, u = spi.splprep([x, y], s=0, k=2)\n",
      "\n",
      "    # number of points on interpolated B-spline (parameter t)\n",
      "    t = np.linspace(0.0, 1.0, num)\n",
      "    if ev: t = u\n",
      "\n",
      "    # evaluate B-spline at given parameters (der=0: returns point coordinates)\n",
      "    coo = spi.splev(t, tck, der=0)\n",
      "\n",
      "    # evaluate 1st derivative at given parameters\n",
      "    der1 = spi.splev(t, tck, der=1)\n",
      "\n",
      "    # evaluate 2nd derivative at given parameters\n",
      "    der2 = spi.splev(t, tck, der=2)\n",
      "\n",
      "    return coo, u, der1, der2, tck\n",
      "\n",
      "def refine(x, y, tol=170.0):\n",
      "    \"\"\"Recursive refinement with respect to angle criterion (tol)\"\"\"\n",
      "\n",
      "    coo, u, der1, der2, tck = spline(x, y, 300)\n",
      "\n",
      "    for i in range(len(x)-2):\n",
      "        a = np.array([x[i] - x[i+1], y[i] - y[i+1]])\n",
      "        b = np.array([x[i+2] - x[i+1], y[i+2] - y[i+1]])\n",
      "        ang = angle_degree(a, b)\n",
      "        if ang < tol:\n",
      "            p1 = spi.splev((u[i+1]+u[i])/2, tck, der=0)\n",
      "            p2 = spi.splev((u[i+2]+u[i+1])/2, tck, der=0)\n",
      "            x.insert(i+1, p1[0])\n",
      "            y.insert(i+1, p1[1])\n",
      "            x.insert(i+3, p2[0])\n",
      "            y.insert(i+3, p2[1])\n",
      "            return refine(x, y, tol)\n",
      "    return x, y\n",
      "\n",
      "def angle_degree(a, b):\n",
      "    \"\"\"Return angle between two vectors\"\"\"\n",
      "    dot = np.dot(a, b)\n",
      "    na = sla.norm(a)\n",
      "    nb = sla.norm(b)\n",
      "    cosinus = dot / (na * nb)\n",
      "    ang = np.arccos(cosinus)* 180.0 / np.pi\n",
      "\n",
      "    return ang\n"
     ],
     "language": "python",
     "metadata": {},
     "outputs": [],
     "prompt_number": 30
    },
    {
     "cell_type": "code",
     "collapsed": false,
     "input": [
      "xo = x\n",
      "yo = y\n",
      "xn, yn = refine(x, y, 176.0)\n",
      "\n",
      "coo, u, der1, der2, tck = spline(x, y, num=300, ev=True)\n",
      "\n",
      "fig1 = plt.figure(figsize=(12, 12))\n",
      "\n",
      "ax1 = fig1.add_subplot(4,1,1)\n",
      "ax3 = fig1.add_subplot(4,1,2)\n",
      "ax4 = fig1.add_subplot(4,1,3)\n",
      "ax5 = fig1.add_subplot(4,1,4)\n",
      "\n",
      "ax1.plot(xn, yn,'b', linewidth=3)\n",
      "ax1.plot(xn, yn,'go')\n",
      "ax1.plot(xo, yo,'ro')\n",
      "ax1.set_title('MH32 contour')\n",
      "ax1.set_xlim(0.0, 1.0)\n",
      "ax1.set_ylim(-0.1, 0.1)\n",
      "ax1.set_aspect(1)\n",
      "\n",
      "ax3.plot(coo[:][0], der1[:][1],'g', linewidth=3)\n",
      "ax3.set_title(r'$1^{st} derivative$')\n",
      "ax3.set_xlim(0.0, 1.0)\n",
      "ax3.grid()\n",
      "\n",
      "ax4.plot(coo[:][0], der2[:][1],'r', linewidth=3)\n",
      "ax4.set_title(r'$2^{nd} derivative$')\n",
      "ax4.set_xlim(0.0, 1.0)\n",
      "ax4.grid()\n",
      "\n",
      "ax5.plot(coo[:][0], der2[:][1],'r', linewidth=3)\n",
      "ax5.set_title(r'$2^{nd} derivative$')\n",
      "ax5.set_xlim(0.0, 0.05)\n",
      "ax5.grid()"
     ],
     "language": "python",
     "metadata": {},
     "outputs": [
      {
       "metadata": {},
       "output_type": "display_data",
       "text": [
        "<matplotlib.figure.Figure at 0xa8e30f0>"
       ]
      }
     ],
     "prompt_number": 31
    },
    {
     "cell_type": "code",
     "collapsed": false,
     "input": [
      "fig2 = plt.figure(figsize=(12, 8))\n",
      "ax2 = fig2.add_subplot(1,1,1)\n",
      "\n",
      "ax2.plot(xn, yn,'b', linewidth=3)\n",
      "ax2.plot(xn, yn,'go')\n",
      "ax2.plot(xo, yo,'ro')\n",
      "ax2.set_title('Detail at leading edge')\n",
      "ax2.set_xlim(0.0, 0.1)\n",
      "ax2.set_ylim(-0.05, 0.05)\n",
      "ax2.set_aspect(1)\n",
      "ax2.grid()"
     ],
     "language": "python",
     "metadata": {},
     "outputs": [
      {
       "metadata": {},
       "output_type": "display_data",
       "png": "[encoded data removed]",
       "text": [
        "<matplotlib.figure.Figure at 0xac6c240>"
       ]
      }
     ],
     "prompt_number": 32
    },
    {
     "cell_type": "code",
     "collapsed": false,
     "input": [],
     "language": "python",
     "metadata": {},
     "outputs": []
    }
   ],
   "metadata": {}
  }
 ]
}
